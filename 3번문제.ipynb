# Data Source : http://www.statiz.co.kr/
import pandas as pd
from scipy import stats

picher_file_path = '../data/picher_stats_2017.csv' #투수 선수들의 기록을 담고 있는 코드
batter_file_path = '../data/batter_stats_2017.csv' #타자 선수들의 기록을 담고 있는 코드
picher = pd.read_csv(picher_file_path)
batter = pd.read_csv(batter_file_path)
#statiz.co.kr에서 제공하는 2017년 한국 프로야구 데이터를 불러오기 위한 코드입니다

hanhwa_salary = picher[picher['팀명']=='한화']['연봉(2017)'] #팀명'이 '한화'인 행의 '연봉(2017)' 열을 추출
sk_salary = picher[picher['팀명']=='SK']['연봉(2017)'] #팀명'이 'SK'인 행의 '연봉(2017)' 열을을 추출

tTestResult = stats.ttest_ind(hanhwa_salary, sk_salary)
tTestResultDiffVar = stats.ttest_ind(hanhwa_salary, sk_salary, equal_var=False)
#2017년 프로야구 데이터를 활용하여 '한화'와 'SK' 팀의 연봉 분포에 대한 t-test를 수행하는 것입니다.

print("The t-statistic and p-value assuming equal variances is %.3f and %.3f." % tTestResult)
print("The t-statistic and p-value not assuming equal variances is %.3f and %.3f" % tTestResultDiffVar)
#두 개의 변수 (한화의 2017 연봉, SK의 2017 연봉) 간의 t-test 결과를 출력합니다.
