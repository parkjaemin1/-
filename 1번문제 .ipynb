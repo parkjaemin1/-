[Chipotle 데이터셋의 행과 열, 데이터]를 사용하여 상위 10개 품목을 출력하는 코드를 작성하였음

# -*- coding: utf-8 -*-

import pandas as pd

# read_csv 함수로 데이터를 Dataframe 형태로 불러옵니다.
file_path = '../data/chipotle.tsv'
chipo = pd.read_csv(file_path, sep = '\t')
chipo.groupby('order_id').sum().sort_values(by='item_price', ascending=False)
#chipo' 데이터프레임을 'order_id' 열로 그룹화하고, 같은 'order_id'를 가진 행들의 'item_price' 열 값을 합산하여 새로운 데이터프레임을 생성합니다.
order_item_totals = chipo.groupby('item_name')['item_price'].sum().sort_values(ascending=False)
#주문 데이터에서 각 메뉴별 총 매출을 계산하고, 매출이 높은 순서대로 정렬한 것입니다.
print(order_item_totals.head(10))
#상위 10개의 품목을 출력한 값입니다.

item_name
Carnitas Soft Tacos      $9.25 $9.25 $9.25 $9.25 $9.25 $8.99 $8.99 $8.9...
Barbacoa Soft Tacos      $9.25 $9.25 $8.99 $9.25 $9.25 $11.75 $11.75 $9...
Steak Soft Tacos         $9.25 $9.25 $8.99 $9.25 $8.99 $8.99 $9.25 $9.2...
Steak Crispy Tacos       $9.25 $8.99 $9.25 $8.69 $8.99 $9.25 $8.99 $9.2...
Carnitas Crispy Tacos        $9.25 $11.75 $8.99 $11.75 $8.99 $17.98 $9.25 
Barbacoa Burrito         $8.99 $9.25 $9.25 $11.75 $11.75 $9.25 $8.99 $1...
Carnitas Burrito         $8.99 $9.25 $11.75 $9.25 $9.25 $9.25 $11.75 $9...
Steak Salad                                       $8.99 $8.99 $8.99 $8.69 
Steak Bowl               $8.99 $8.99 $11.75 $11.75 $8.99 $11.48 $9.25 $...
Carnitas Bowl            $8.99 $11.75 $9.25 $11.48 $8.99 $8.99 $23.50 $...
Name: item_price, dtype: object
