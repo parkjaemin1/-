# -*- coding: utf-8 -*-

import pandas as pd
import numpy as np
import matplotlib.pyplot as plt

file_path = '../data/drinks.csv'
drinks = pd.read_csv(file_path) # read_csv 함수로 데이터를 Dataframe 형태로 불러옵니다.
europe = drinks.loc[drinks['continent']=='EU']
#drinks 데이터프레임에서 대륙이 'EU'인 국가들을 선택하여 새로운 데이터프레임 europe를 만든다는 코드입니다.
correlation = europe['beer_servings'].corr(europe['wine_servings'])
#europe 데이터프레임에서 맥주 소비량과 와인 소비량 간의 상관 관계를 계산합니다.
print(f"맥주와 와인의 상관관계(피어슨 상관계수): {correlation}")
